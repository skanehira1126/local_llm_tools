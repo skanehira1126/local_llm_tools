{
 "cells": [
  {
   "cell_type": "code",
   "execution_count": 24,
   "id": "161f9739-c9ad-48c5-9b4a-13c699450e5c",
   "metadata": {},
   "outputs": [],
   "source": [
    "from logging import getLogger\n",
    "\n",
    "from langchain.schema import AIMessage, HumanMessage, SystemMessage\n",
    "from langchain_core.messages import RemoveMessage\n",
    "from langchain_core.tools.structured import StructuredTool\n",
    "from langchain_ollama import ChatOllama\n",
    "from langgraph.prebuilt import ToolNode\n",
    "\n",
    "from local_llm_tools.langfamily_agent.build_graph import build_graph\n",
    "from local_llm_tools.langfamily_agent.utils import get_role_of_message\n",
    "from local_llm_tools.tools import MATH_TOOLS, MATH_TOOLS_DS\n",
    "\n",
    "logger = getLogger(__name__)\n",
    "\n",
    "\n",
    "class ChatBot:\n",
    "    def __init__(\n",
    "        self,\n",
    "        model_name: str,\n",
    "        tools: list[StructuredTool],\n",
    "        params: dict | None = None,\n",
    "    ):\n",
    "        self.model_name = model_name\n",
    "        self.messages: list[AIMessage | HumanMessage | SystemMessage] = []\n",
    "        self.messages_model: list[str | None] = []\n",
    "\n",
    "        self.params: dict = {}\n",
    "        if params is not None:\n",
    "            self.params.update(params)\n",
    "\n",
    "        self.tools = tools\n",
    "\n",
    "        self._agent = None\n",
    "\n",
    "    @property\n",
    "    def agent(self):\n",
    "        if not self.is_build():\n",
    "            raise ValueError(\"graph is not built.\")\n",
    "        return self._agent\n",
    "\n",
    "    def is_build(self):\n",
    "        return self._agent is not None\n",
    "\n",
    "    def set_params(self, **kwargs):\n",
    "        \"\"\"パラメータの更新\"\"\"\n",
    "        if not kwargs:\n",
    "            raise ValueError(\"One or more parameters are required.\")\n",
    "\n",
    "        self.params.update(kwargs)\n",
    "\n",
    "    def build(self):\n",
    "        llm = ChatOllama(model=self.model_name, **self.params, stream=True)\n",
    "        llm = llm.bind_tools(self.tools)\n",
    "        self._agent = build_graph(llm, ToolNode(self.tools))\n",
    "\n",
    "    def chat_stream(\n",
    "        self, user_input: str, config: dict, system_promt: list[str] | None = None\n",
    "    ):\n",
    "        if system_promt is None:\n",
    "            messages = []\n",
    "        else:\n",
    "            messages = [{\"role\": \"system\", \"content\": system_promt}]\n",
    "        messages.append({\"role\": \"user\", \"content\": user_input})\n",
    "\n",
    "        for event in self.agent.stream(\n",
    "            {\"messages\": messages},\n",
    "            config,\n",
    "            stream_mode=\"messages\",\n",
    "        ):\n",
    "            # (AIMessageChunk, dict)\n",
    "            yield event[0].content\n",
    "\n",
    "    def delete_messages(self, message_idx: int, config: dict):\n",
    "        \"\"\"\n",
    "        指定したindexまでのMessageを削除する\n",
    "        \"\"\"\n",
    "\n",
    "        delete_messages = self.agent.get_state(config).values[\"messages\"][message_idx:]\n",
    "        _ = self.agent.update_state(\n",
    "            config, {\"messages\": [RemoveMessage(id=msg.id) for msg in delete_messages]}\n",
    "        )\n",
    "\n",
    "    def reset_message(self):\n",
    "        \"\"\"\n",
    "        Messageの初期化\n",
    "        \"\"\"\n",
    "        self.build()\n",
    "\n",
    "    def history(self, config):\n",
    "        for msg in self._agent.get_state(config)[0][\"messages\"]:\n",
    "            yield msg, msg.response_metadata.get(\"model\", None), get_role_of_message(\n",
    "                msg\n",
    "            )"
   ]
  },
  {
   "cell_type": "code",
   "execution_count": 2,
   "id": "1ae7ff83-508f-4298-a82d-fceb7c5d9535",
   "metadata": {},
   "outputs": [],
   "source": [
    "from logging import getLogger\n",
    "from typing import Literal\n",
    "\n",
    "from langgraph.checkpoint.memory import MemorySaver\n",
    "from langgraph.graph import END, START, MessagesState, StateGraph\n",
    "from langgraph.prebuilt import ToolNode\n",
    "\n",
    "\n",
    "def build_graph(llm, tool_node: ToolNode):\n",
    "    def chat(state: MessagesState):\n",
    "        logger.debug(\"Called chat node\")\n",
    "        return {\"messages\": [llm.invoke(state[\"messages\"])]}\n",
    "\n",
    "    graph_builder = StateGraph(MessagesState)\n",
    "\n",
    "    # Nodes\n",
    "    graph_builder.add_node(\"chat\", chat)\n",
    "    graph_builder.add_node(\"tools\", tool_node)\n",
    "\n",
    "    # Edge\n",
    "    # 終了判定はshould_continueが持ってる\n",
    "    graph_builder.add_edge(START, \"chat\")\n",
    "    graph_builder.add_conditional_edges(\"chat\", should_continue)\n",
    "    graph_builder.add_edge(\"tools\", \"chat\")\n",
    "\n",
    "    # Memory\n",
    "    memory = MemorySaver()\n",
    "    graph = graph_builder.compile(checkpointer=memory)\n",
    "\n",
    "    return graph"
   ]
  },
  {
   "cell_type": "code",
   "execution_count": 28,
   "id": "8554ae34-987f-40be-bd37-5753c447198f",
   "metadata": {},
   "outputs": [
    {
     "name": "stdout",
     "output_type": "stream",
     "text": [
      "add(a: int | float, b: int | float) -> int | float - 足し算を行う関数\n",
      "\n",
      "Args:\n",
      "    a (int | float): 足し算を行う1つ目の値\n",
      "    b (int | float): 足し算を行う2つ目の値\n",
      "\n",
      "Returns:\n",
      "    int | float: 足し算の結果\n",
      "minus(a: int | float, b: int | float) -> int | float - 引き算を行う関数\n",
      "\n",
      "Args:\n",
      "    a (int | float): 引き算を行う1つ目の値\n",
      "    b (int | float): 引き算を行う2つ目の値\n",
      "\n",
      "Returns:\n",
      "    int | float: 引き算の結果\n",
      "multiply(a: int | float, b: int | float) -> int | float - 掛け算を行う関数\n",
      "\n",
      "Args:\n",
      "    a (int | float): 掛け算を行う1つ目の値\n",
      "    b (int | float): 掛け算を行う2つ目の値\n",
      "\n",
      "Returns:\n",
      "    int | float: 掛け算の結果\n",
      "divide(a: int | float, b: int | float) -> int | float - 割り算を行う関数\n",
      "\n",
      "Args:\n",
      "    a (int | float): 割り算を行う1つ目の値\n",
      "    b (int | float): 割り算を行う2つ目の値\n",
      "\n",
      "Returns:\n",
      "    int | float: 割り算の結果\n"
     ]
    }
   ],
   "source": [
    "from langchain_core.output_parsers import JsonOutputParser\n",
    "from langchain_core.prompts import ChatPromptTemplate\n",
    "from langchain_core.tools import render_text_description\n",
    "\n",
    "tools = MATH_TOOLS\n",
    "\n",
    "\n",
    "rendered_tools = render_text_description(tools)\n",
    "print(rendered_tools)"
   ]
  },
  {
   "cell_type": "code",
   "execution_count": 29,
   "id": "b1533cbf-5c89-4ec1-b547-513708a8d038",
   "metadata": {},
   "outputs": [],
   "source": [
    "system_prompt = f\"\"\"\\\n",
    "You are an assistant that has access to the following set of tools. \n",
    "Here are the names and descriptions for each tool:\n",
    "\n",
    "{rendered_tools}\n",
    "\n",
    "Given the user input, return the name and input of the tool to use. \n",
    "Return your response as a JSON blob with 'name' and 'arguments' keys.\n",
    "\n",
    "The `arguments` should be a dictionary, with keys corresponding \n",
    "to the argument names and the values corresponding to the requested values.\n",
    "\"\"\"\n",
    "\n",
    "prompt = ChatPromptTemplate.from_messages(\n",
    "    [(\"system\", system_prompt), (\"user\", \"{input}\")]\n",
    ")"
   ]
  },
  {
   "cell_type": "code",
   "execution_count": 33,
   "id": "7da23622-7d57-472d-9104-e3bb70a04974",
   "metadata": {},
   "outputs": [
    {
     "name": "stdout",
     "output_type": "stream",
     "text": [
      "You are an assistant that has access to the following set of tools. \n",
      "Here are the names and descriptions for each tool:\n",
      "\n",
      "add(a: int | float, b: int | float) -> int | float - 足し算を行う関数\n",
      "\n",
      "Args:\n",
      "    a (int | float): 足し算を行う1つ目の値\n",
      "    b (int | float): 足し算を行う2つ目の値\n",
      "\n",
      "Returns:\n",
      "    int | float: 足し算の結果\n",
      "minus(a: int | float, b: int | float) -> int | float - 引き算を行う関数\n",
      "\n",
      "Args:\n",
      "    a (int | float): 引き算を行う1つ目の値\n",
      "    b (int | float): 引き算を行う2つ目の値\n",
      "\n",
      "Returns:\n",
      "    int | float: 引き算の結果\n",
      "multiply(a: int | float, b: int | float) -> int | float - 掛け算を行う関数\n",
      "\n",
      "Args:\n",
      "    a (int | float): 掛け算を行う1つ目の値\n",
      "    b (int | float): 掛け算を行う2つ目の値\n",
      "\n",
      "Returns:\n",
      "    int | float: 掛け算の結果\n",
      "divide(a: int | float, b: int | float) -> int | float - 割り算を行う関数\n",
      "\n",
      "Args:\n",
      "    a (int | float): 割り算を行う1つ目の値\n",
      "    b (int | float): 割り算を行う2つ目の値\n",
      "\n",
      "Returns:\n",
      "    int | float: 割り算の結果\n",
      "\n",
      "Given the user input, return the name and input of the tool to use. \n",
      "Return your response as a JSON blob with 'name' and 'arguments' keys.\n",
      "\n",
      "The `arguments` should be a dictionary, with keys corresponding \n",
      "to the argument names and the values corresponding to the requested values.\n",
      "\n"
     ]
    }
   ],
   "source": [
    "print(system_prompt)"
   ]
  },
  {
   "cell_type": "code",
   "execution_count": 75,
   "id": "e1cbb641-2446-4b38-8102-27aab551b42f",
   "metadata": {},
   "outputs": [],
   "source": [
    "model = ChatOllama(model=\"gemma3:4b-it-fp16\", temperature=0)"
   ]
  },
  {
   "cell_type": "code",
   "execution_count": 40,
   "id": "9f81caf1-1364-4739-860c-0091cc329fc8",
   "metadata": {},
   "outputs": [
    {
     "name": "stdout",
     "output_type": "stream",
     "text": [
      "{'name': 'multiply', 'arguments': {'a': 13.0, 'b': 4.0}}\n"
     ]
    }
   ],
   "source": [
    "chain = prompt | model | JsonOutputParser()\n",
    "output = chain.invoke({\"input\": \"what's thirteen times 4\"})\n",
    "print(output)"
   ]
  },
  {
   "cell_type": "code",
   "execution_count": null,
   "id": "7f961764-c533-4b02-b1e8-4f8bc939f13b",
   "metadata": {},
   "outputs": [],
   "source": []
  },
  {
   "cell_type": "code",
   "execution_count": 13,
   "id": "a971945c-37a5-4967-b4f9-bb39e2e2f405",
   "metadata": {},
   "outputs": [],
   "source": [
    "from typing import Any, Dict, Optional, TypedDict\n",
    "\n",
    "from langchain_core.runnables import RunnableConfig\n",
    "\n",
    "\n",
    "class ToolCallRequest(TypedDict):\n",
    "    \"\"\"A typed dict that shows the inputs into the invoke_tool function.\"\"\"\n",
    "\n",
    "    name: str\n",
    "    arguments: Dict[str, Any]\n",
    "\n",
    "\n",
    "def invoke_tool(\n",
    "    tool_call_request: ToolCallRequest, config: Optional[RunnableConfig] = None\n",
    "):\n",
    "    \"\"\"A function that we can use the perform a tool invocation.\n",
    "\n",
    "    Args:\n",
    "        tool_call_request: a dict that contains the keys name and arguments.\n",
    "            The name must match the name of a tool that exists.\n",
    "            The arguments are the arguments to that tool.\n",
    "        config: This is configuration information that LangChain uses that contains\n",
    "            things like callbacks, metadata, etc.See LCEL documentation about RunnableConfig.\n",
    "\n",
    "    Returns:\n",
    "        output from the requested tool\n",
    "    \"\"\"\n",
    "    tool_name_to_tool = {tool.name: tool for tool in tools}\n",
    "    name = tool_call_request[\"name\"]\n",
    "    requested_tool = tool_name_to_tool[name]\n",
    "    return requested_tool.invoke(tool_call_request[\"arguments\"], config=config)"
   ]
  },
  {
   "cell_type": "code",
   "execution_count": 14,
   "id": "caa0942a-8a78-4c60-ba21-ca1960561f64",
   "metadata": {},
   "outputs": [
    {
     "name": "stderr",
     "output_type": "stream",
     "text": [
      "[DEBUG] local_llm_tools.langfamily_agent.tools.math 2025-03-13 22:05:17,726 - math.py: 19: Called multiply tool\n"
     ]
    },
    {
     "data": {
      "text/plain": [
       "52"
      ]
     },
     "execution_count": 14,
     "metadata": {},
     "output_type": "execute_result"
    }
   ],
   "source": [
    "invoke_tool(output)"
   ]
  },
  {
   "cell_type": "code",
   "execution_count": 15,
   "id": "b8c0a7dc-f16b-460b-9fab-a08c6196dade",
   "metadata": {},
   "outputs": [
    {
     "name": "stderr",
     "output_type": "stream",
     "text": [
      "[DEBUG] local_llm_tools.langfamily_agent.tools.math 2025-03-13 22:06:07,814 - math.py: 19: Called multiply tool\n"
     ]
    },
    {
     "data": {
      "text/plain": [
       "53.83784653"
      ]
     },
     "execution_count": 15,
     "metadata": {},
     "output_type": "execute_result"
    }
   ],
   "source": [
    "chain = prompt | model | JsonOutputParser() | invoke_tool\n",
    "chain.invoke({\"input\": \"what's thirteen times 4.14137281\"})"
   ]
  },
  {
   "cell_type": "code",
   "execution_count": 16,
   "id": "3ed41d49-5e29-4984-9a3c-60ffc96db0ba",
   "metadata": {},
   "outputs": [
    {
     "name": "stderr",
     "output_type": "stream",
     "text": [
      "[DEBUG] local_llm_tools.langfamily_agent.tools.math 2025-03-13 22:07:50,748 - math.py: 19: Called multiply tool\n"
     ]
    },
    {
     "data": {
      "text/plain": [
       "{'name': 'multiply',\n",
       " 'arguments': {'a': 13, 'b': 4.14137281},\n",
       " 'output': 53.83784653}"
      ]
     },
     "execution_count": 16,
     "metadata": {},
     "output_type": "execute_result"
    }
   ],
   "source": [
    "from langchain_core.runnables import RunnablePassthrough\n",
    "\n",
    "chain = (\n",
    "    prompt | model | JsonOutputParser() | RunnablePassthrough.assign(output=invoke_tool)\n",
    ")\n",
    "chain.invoke({\"input\": \"what's thirteen times 4.14137281\"})"
   ]
  },
  {
   "cell_type": "code",
   "execution_count": 143,
   "id": "75664b3d-4cea-478b-903d-3fddbf137b39",
   "metadata": {},
   "outputs": [
    {
     "data": {
      "text/plain": [
       "'gemma3:4b-it-fp16'"
      ]
     },
     "execution_count": 143,
     "metadata": {},
     "output_type": "execute_result"
    }
   ],
   "source": [
    "model.model"
   ]
  },
  {
   "cell_type": "code",
   "execution_count": 135,
   "id": "b4f8e743-950e-4694-8ec0-f70603c7232b",
   "metadata": {},
   "outputs": [],
   "source": [
    "system_prompt = f\"\"\"\\\n",
    "You are an assistant that has access to the following set of tools. \n",
    "Here are the names and descriptions for each tool:\n",
    "\n",
    "{rendered_tools}\n",
    "\n",
    "Given the user input, return the name and input of the tool to use. \n",
    "Return your response as a JSON blob with 'name' and 'arguments' keys.\n",
    "\n",
    "The `arguments` should be a dictionary, with keys corresponding \n",
    "to the argument names and the values corresponding to the requested values.\n",
    "\n",
    "If you cannnot undertand to use which tools, please response JSON blob with 'name' key is 'unknown' and 'arguments' key is empty dictionary.\n",
    "\"\"\"\n",
    "\n",
    "\n",
    "from typing import Annotated, TypedDict\n",
    "\n",
    "from langgraph.graph.message import add_messages\n",
    "from langgraph.types import Command\n",
    "\n",
    "\n",
    "class MyMessageState(TypedDict):\n",
    "    messages: Annotated[list, add_messages]\n",
    "    tool_call_request: dict\n",
    "\n",
    "\n",
    "def should_continue(state: MyMessageState) -> Literal[\"chat\", \"tools\", END]:\n",
    "    \"\"\"\n",
    "    ツールを選択する.\n",
    "    \"\"\"\n",
    "    messages = state[\"messages\"]\n",
    "    last_message = messages[-1]\n",
    "    # system promptはそのまま返却\n",
    "    if get_role_of_message(last_message) == \"system\":\n",
    "        goto = END\n",
    "        update = None\n",
    "    else:\n",
    "        prompt = ChatPromptTemplate.from_messages(\n",
    "            [(\"system\", system_prompt), (\"user\", \"{input}\")]\n",
    "        )\n",
    "        model = ChatOllama(model=\"gemma3:4b-it-fp16\", temperature=0, format=\"json\")\n",
    "        chain = prompt | model | JsonOutputParser()\n",
    "        tool_call_request = chain.invoke({\"input\": last_message.content})\n",
    "\n",
    "        goto = \"chat\" if tool_call_request[\"name\"] == \"unknown\" else \"tools\"\n",
    "        update = (\n",
    "            None\n",
    "            if tool_call_request[\"name\"] == \"unknown\"\n",
    "            else {\"tool_call_request\": tool_call_request}\n",
    "        )\n",
    "\n",
    "    return Command(\n",
    "        update=update,\n",
    "        goto=goto,\n",
    "    )\n",
    "\n",
    "\n",
    "def invoke_tool(state: MyMessageState, config: Optional[RunnableConfig] = None):\n",
    "    \"\"\"A function that we can use the perform a tool invocation.\n",
    "\n",
    "    Args:\n",
    "        tool_call_request: a dict that contains the keys name and arguments.\n",
    "            The name must match the name of a tool that exists.\n",
    "            The arguments are the arguments to that tool.\n",
    "        config: This is configuration information that LangChain uses that contains\n",
    "            things like callbacks, metadata, etc.See LCEL documentation about RunnableConfig.\n",
    "\n",
    "    Returns:\n",
    "        output from the requested tool\n",
    "    \"\"\"\n",
    "    tool_call_request = state.get(\"tool_call_request\")\n",
    "    tool_name_to_tool = {tool.name: tool for tool in tools}\n",
    "    name = tool_call_request[\"name\"]\n",
    "    requested_tool = tool_name_to_tool[name]\n",
    "    return {\n",
    "        \"messages\": [\n",
    "            SystemMessage(\n",
    "                f\"Result of {name} is {requested_tool.invoke(tool_call_request['arguments'], config=config)}. Please use these results to answer user questions.\"\n",
    "            )\n",
    "        ]\n",
    "    }\n",
    "\n",
    "\n",
    "def build_graph(llm):\n",
    "    def chat(state: MyMessageState):\n",
    "        print(\"Called chat node\")\n",
    "        return {\"messages\": [llm.invoke(state[\"messages\"])]}\n",
    "\n",
    "    graph_builder = StateGraph(MyMessageState)\n",
    "\n",
    "    # Nodes\n",
    "    graph_builder.add_node(\"chat\", chat)\n",
    "    graph_builder.add_node(\"chat_end\", chat)\n",
    "    graph_builder.add_node(\"should_continue\", should_continue)\n",
    "    graph_builder.add_node(\"tools\", invoke_tool)\n",
    "\n",
    "    # Edge\n",
    "    # 終了判定はshould_continueが持ってる\n",
    "    graph_builder.add_edge(START, \"should_continue\")\n",
    "    # graph_builder.add_edge(\"should_continue\", \"chat_end\")\n",
    "    # graph_builder.add_conditional_edges(\"chat\", should_continue)\n",
    "    graph_builder.add_edge(\"tools\", \"chat_end\")\n",
    "    graph_builder.add_edge(\"chat_end\", END)\n",
    "\n",
    "    # Memory\n",
    "    memory = MemorySaver()\n",
    "    graph = graph_builder.compile(checkpointer=memory)\n",
    "\n",
    "    return graph"
   ]
  },
  {
   "cell_type": "markdown",
   "id": "4043a942-1d6a-4ff3-9822-8f68d6ea505f",
   "metadata": {},
   "source": [
    "## ツールの選択をするNodeを作る？"
   ]
  },
  {
   "cell_type": "code",
   "execution_count": 136,
   "id": "82f6f6d9-8eff-4766-bbc1-c09fe06ed94e",
   "metadata": {},
   "outputs": [
    {
     "name": "stdout",
     "output_type": "stream",
     "text": [
      "Called should_continue node\n",
      "content=\"what's thirteen times 4\" additional_kwargs={} response_metadata={} id='4f462827-f885-449f-90c3-b9db714f76f4'\n",
      "Called chat node\n"
     ]
    }
   ],
   "source": [
    "graph = build_graph(model)\n",
    "config = {\"configurable\": {\"thread_id\": \"2\"}}\n",
    "\n",
    "output = graph.invoke(\n",
    "    {\"messages\": [{\"role\": \"user\", \"content\": \"what's thirteen times 4\"}]}, config\n",
    ")"
   ]
  },
  {
   "cell_type": "code",
   "execution_count": 137,
   "id": "e2b1f86b-8937-4d8d-a0a8-6b2ee6cf6ec7",
   "metadata": {},
   "outputs": [
    {
     "data": {
      "text/plain": [
       "{'messages': [HumanMessage(content=\"what's thirteen times 4\", additional_kwargs={}, response_metadata={}, id='4f462827-f885-449f-90c3-b9db714f76f4'),\n",
       "  SystemMessage(content='Result of multiply is 52. Please use these results to answer user questions.', additional_kwargs={}, response_metadata={}, id='19f3ca80-de60-4982-b7ce-28fa09277002'),\n",
       "  AIMessage(content='Okay! Thirteen times four is 52. 😊 \\n\\nHow can I help you with that result? Do you want to:\\n\\n*   Do another calculation using 52?\\n*   Solve a word problem involving 52?\\n*   Just confirm that I got it right?', additional_kwargs={}, response_metadata={'model': 'gemma3:4b-it-fp16', 'created_at': '2025-03-14T11:45:19.674833Z', 'done': True, 'done_reason': 'stop', 'total_duration': 3866281375, 'load_duration': 27268208, 'prompt_eval_count': 38, 'prompt_eval_duration': 104000000, 'eval_count': 62, 'eval_duration': 3733000000, 'message': Message(role='assistant', content='', images=None, tool_calls=None)}, id='run-d0e8ffd0-2854-421c-b541-7173c7a6d5ea-0', usage_metadata={'input_tokens': 38, 'output_tokens': 62, 'total_tokens': 100})],\n",
       " 'tool_call_request': {'name': 'multiply', 'arguments': {'a': 13, 'b': 4}}}"
      ]
     },
     "execution_count": 137,
     "metadata": {},
     "output_type": "execute_result"
    }
   ],
   "source": [
    "output"
   ]
  },
  {
   "cell_type": "code",
   "execution_count": 140,
   "id": "131935f8-6351-4288-b099-5b78d045ca6f",
   "metadata": {},
   "outputs": [
    {
     "data": {
      "text/plain": [
       "[StructuredTool(name='add', description='足し算を行う関数\\n\\nArgs:\\n    a (int | float): 足し算を行う1つ目の値\\n    b (int | float): 足し算を行う2つ目の値\\n\\nReturns:\\n    int | float: 足し算の結果', args_schema=<class 'langchain_core.utils.pydantic.add'>, func=<function add at 0x125a2e200>),\n",
       " StructuredTool(name='minus', description='引き算を行う関数\\n\\nArgs:\\n    a (int | float): 引き算を行う1つ目の値\\n    b (int | float): 引き算を行う2つ目の値\\n\\nReturns:\\n    int | float: 引き算の結果', args_schema=<class 'langchain_core.utils.pydantic.minus'>, func=<function minus at 0x125a2e7a0>),\n",
       " StructuredTool(name='multiply', description='掛け算を行う関数\\n\\nArgs:\\n    a (int | float): 掛け算を行う1つ目の値\\n    b (int | float): 掛け算を行う2つ目の値\\n\\nReturns:\\n    int | float: 掛け算の結果', args_schema=<class 'langchain_core.utils.pydantic.multiply'>, func=<function multiply at 0x125a2e520>),\n",
       " StructuredTool(name='divide', description='割り算を行う関数\\n\\nArgs:\\n    a (int | float): 割り算を行う1つ目の値\\n    b (int | float): 割り算を行う2つ目の値\\n\\nReturns:\\n    int | float: 割り算の結果', args_schema=<class 'langchain_core.utils.pydantic.divide'>, func=<function divide at 0x125a2e700>)]"
      ]
     },
     "execution_count": 140,
     "metadata": {},
     "output_type": "execute_result"
    }
   ],
   "source": [
    "MATH_TOOLS["
   ]
  },
  {
   "cell_type": "code",
   "execution_count": null,
   "id": "aa1265af-cc3f-4c08-8ff6-1f98f2bed3df",
   "metadata": {},
   "outputs": [],
   "source": []
  }
 ],
 "metadata": {
  "kernelspec": {
   "display_name": "Python 3 (ipykernel)",
   "language": "python",
   "name": "python3"
  },
  "language_info": {
   "codemirror_mode": {
    "name": "ipython",
    "version": 3
   },
   "file_extension": ".py",
   "mimetype": "text/x-python",
   "name": "python",
   "nbconvert_exporter": "python",
   "pygments_lexer": "ipython3",
   "version": "3.11.6"
  }
 },
 "nbformat": 4,
 "nbformat_minor": 5
}
